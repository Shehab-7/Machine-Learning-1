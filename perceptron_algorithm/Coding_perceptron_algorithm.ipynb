{
  "nbformat": 4,
  "nbformat_minor": 0,
  "metadata": {
    "kernelspec": {
      "display_name": "Python 3",
      "language": "python",
      "name": "python3"
    },
    "language_info": {
      "codemirror_mode": {
        "name": "ipython",
        "version": 3
      },
      "file_extension": ".py",
      "mimetype": "text/x-python",
      "name": "python",
      "nbconvert_exporter": "python",
      "pygments_lexer": "ipython3",
      "version": "3.7.6"
    },
    "colab": {
      "name": "Coding_perceptron_algorithm.ipynb",
      "provenance": [],
      "collapsed_sections": []
    }
  },
  "cells": [
    {
      "cell_type": "markdown",
      "metadata": {
        "id": "tCkvkBzWQfOZ"
      },
      "source": [
        "# Sentiment analysis with the perceptron algorithm\n",
        "\n",
        "### Importing the necessary packages"
      ]
    },
    {
      "cell_type": "code",
      "metadata": {
        "id": "TeSYY-G_QmH3",
        "outputId": "e97989d7-7a79-4971-f7fe-328c1ce383a6",
        "colab": {
          "base_uri": "https://localhost:8080/"
        }
      },
      "source": [
        "!git clone https://github.com/s7s/machine_learning_1.git\n",
        "%cd  machine_learning_1/perceptron_algorithm"
      ],
      "execution_count": 1,
      "outputs": [
        {
          "output_type": "stream",
          "name": "stdout",
          "text": [
            "Cloning into 'machine_learning_1'...\n",
            "remote: Enumerating objects: 186, done.\u001b[K\n",
            "remote: Counting objects: 100% (186/186), done.\u001b[K\n",
            "remote: Compressing objects: 100% (134/134), done.\u001b[K\n",
            "remote: Total 186 (delta 85), reused 150 (delta 49), pack-reused 0\u001b[K\n",
            "Receiving objects: 100% (186/186), 34.12 MiB | 16.99 MiB/s, done.\n",
            "Resolving deltas: 100% (85/85), done.\n",
            "/content/machine_learning_1/perceptron_algorithm\n"
          ]
        }
      ]
    },
    {
      "cell_type": "code",
      "metadata": {
        "id": "AT65ozh-QfOb"
      },
      "source": [
        "# Importing packages\n",
        "from matplotlib import pyplot as plt\n",
        "import numpy as np\n",
        "import random\n",
        "import utils"
      ],
      "execution_count": 2,
      "outputs": []
    },
    {
      "cell_type": "markdown",
      "metadata": {
        "id": "wU0UAbhaQfOc"
      },
      "source": [
        "### Defining and plotting our dataset"
      ]
    },
    {
      "cell_type": "code",
      "metadata": {
        "id": "__oaZrDfQfOc"
      },
      "source": [
        "features = np.array([[1,0],[0,2],[1,1],[1,2],[1,3],[2,2],[2,3],[3,2]])\n",
        "labels = np.array([0,0,0,0,1,1,1,1])"
      ],
      "execution_count": 3,
      "outputs": []
    },
    {
      "cell_type": "code",
      "metadata": {
        "id": "jVPeVngdQfOc",
        "outputId": "fa899619-143f-4a36-a233-df6fd3aa0312",
        "colab": {
          "base_uri": "https://localhost:8080/",
          "height": 279
        }
      },
      "source": [
        "# Plotting the points\n",
        "utils.plot_points(features, labels)\n",
        "utils.draw_line(1,1,-3.5)"
      ],
      "execution_count": 6,
      "outputs": [
        {
          "output_type": "display_data",
          "data": {
            "text/plain": [
              "<Figure size 432x288 with 1 Axes>"
            ],
            "image/png": "[encoded data removed]"
          },
          "metadata": {
            "needs_background": "light"
          }
        }
      ]
    },
    {
      "cell_type": "markdown",
      "metadata": {
        "id": "uakz24K2QfOd"
      },
      "source": [
        "### Coding the perceptron trick"
      ]
    },
    {
      "cell_type": "code",
      "metadata": {
        "id": "6lNtlGVPQfOd"
      },
      "source": [
        "def step(x):\n",
        "    ## TODO ##\n",
        "    # implement step function\n",
        "    if x >= 0 :\n",
        "      output = 1\n",
        "\n",
        "    else  :\n",
        "      output = 0\n",
        "\n",
        "    return output\n",
        "\n",
        "def score(weights, bias, features):\n",
        "    ## TODO ##\n",
        "    # implement score calculation\n",
        "    score = weights@features + bias \n",
        "\n",
        "    return score\n",
        "\n",
        "def prediction(weights, bias, features):\n",
        "    ## TODO ##\n",
        "    # implement prediction calculation using step and score functions\n",
        "    pred = step(score(weights, bias, features))\n",
        "\n",
        "    return pred\n",
        "\n",
        "def error(weights, bias, features, label):\n",
        "    ## TODO ##\n",
        "    # implement error calculation using prediction and score functions\n",
        "    if label == prediction(weights, bias, features) :\n",
        "      error = 0\n",
        "    \n",
        "    elif label != prediction(weights, bias, features) :\n",
        "      error = np.abs(score(weights, bias, features))\n",
        "    return error\n",
        "\n",
        "def mean_perceptron_error(weights, bias, features, labels):\n",
        "    total_error = 0\n",
        "    for i in range(len(features)):\n",
        "        total_error += error(weights, bias, features[i], labels[i])\n",
        "    return total_error/len(features)"
      ],
      "execution_count": 41,
      "outputs": []
    },
    {
      "cell_type": "code",
      "metadata": {
        "id": "etVteOzuQfOf"
      },
      "source": [
        "def perceptron_trick(weights, bias, features, label, learning_rate = 0.01):\n",
        "    ## TODO ##\n",
        "    # update the weights and bias using a single data sample\n",
        "    pred = prediction(weights, bias, features)\n",
        "    for i in range(len(weights)):\n",
        "      weights[i] = weights[i] + learning_rate*(label - pred)*features[i]\n",
        "    \n",
        "    bias = bias + learning_rate*(label - pred)\n",
        "    return weights, bias"
      ],
      "execution_count": 54,
      "outputs": []
    },
    {
      "cell_type": "markdown",
      "metadata": {
        "id": "E4DJcTPOQfOf"
      },
      "source": [
        "### Running the perceptron algorithm"
      ]
    },
    {
      "cell_type": "code",
      "metadata": {
        "id": "_33WBrmcQfOg"
      },
      "source": [
        "random.seed(0)\n",
        "def perceptron_algorithm(features, labels, learning_rate = 0.01, epochs = 200):\n",
        "    weights = [1.0 for i in range(len(features[0]))]\n",
        "    bias = 0.0\n",
        "    errors = []\n",
        "    ## TODO ##\n",
        "    # for this number of epochs \n",
        "    # get a random datasample of our dataset(x,y)\n",
        "    # using the selected datasample use perceptron_trick update weights and bias\n",
        "    for epoch in range(epochs):\n",
        "        error = mean_perceptron_error(weights, bias, features, labels)\n",
        "        errors.append(error)\n",
        "        i = random.randint(0, len(features)-1)\n",
        "        weights, bias = perceptron_trick(weights, bias, features[i], labels[i])\n",
        "\n",
        "    utils.draw_line(weights[0], weights[1], bias)\n",
        "    utils.plot_points(features, labels)\n",
        "    plt.ylim([-2, 5])\n",
        "    plt.show()\n",
        "    plt.scatter(range(epochs), errors)\n",
        "    return weights, bias"
      ],
      "execution_count": 55,
      "outputs": []
    },
    {
      "cell_type": "code",
      "metadata": {
        "id": "l-49WtoMQfOg",
        "outputId": "e4986353-c046-4995-d521-43ae44fbfd51",
        "colab": {
          "base_uri": "https://localhost:8080/",
          "height": 548
        }
      },
      "source": [
        "perceptron_algorithm(features, labels)"
      ],
      "execution_count": 56,
      "outputs": [
        {
          "output_type": "display_data",
          "data": {
            "text/plain": [
              "<Figure size 432x288 with 1 Axes>"
            ],
            "image/png": "[encoded data removed]"
          },
          "metadata": {
            "needs_background": "light"
          }
        },
        {
          "output_type": "execute_result",
          "data": {
            "text/plain": [
              "([0.5199999999999996, 0.049999999999999364], -0.6600000000000004)"
            ]
          },
          "metadata": {},
          "execution_count": 56
        },
        {
          "output_type": "display_data",
          "data": {
            "text/plain": [
              "<Figure size 432x288 with 1 Axes>"
            ],
            "image/png": "[encoded data removed]"
          },
          "metadata": {
            "needs_background": "light"
          }
        }
      ]
    },
    {
      "cell_type": "markdown",
      "metadata": {
        "id": "XC_xjAwxQfOg"
      },
      "source": [
        "### The perceptron algorithm using SKlearn"
      ]
    },
    {
      "cell_type": "code",
      "metadata": {
        "id": "J5j8WRAAQfOi",
        "outputId": "211e9f3a-cfea-4264-fff2-dfac594847a5",
        "colab": {
          "base_uri": "https://localhost:8080/"
        }
      },
      "source": [
        "from sklearn.linear_model import Perceptron\n",
        "## TODO ##\n",
        "# Use SKlearn to train perceptron algorithm\n",
        "clf = Perceptron()\n",
        "clf.fit(features, labels)"
      ],
      "execution_count": 60,
      "outputs": [
        {
          "output_type": "execute_result",
          "data": {
            "text/plain": [
              "Perceptron()"
            ]
          },
          "metadata": {},
          "execution_count": 60
        }
      ]
    },
    {
      "cell_type": "code",
      "metadata": {
        "id": "r0zV0RmcUNiR",
        "outputId": "36a630be-d8d4-41cd-bb0f-571474edc159",
        "colab": {
          "base_uri": "https://localhost:8080/"
        }
      },
      "source": [
        "clf.score(features, labels)"
      ],
      "execution_count": 61,
      "outputs": [
        {
          "output_type": "execute_result",
          "data": {
            "text/plain": [
              "1.0"
            ]
          },
          "metadata": {},
          "execution_count": 61
        }
      ]
    },
    {
      "cell_type": "code",
      "metadata": {
        "id": "UCHrDXAEUiwD",
        "outputId": "9081b854-6079-44e3-ea8f-421f93b9e9ed",
        "colab": {
          "base_uri": "https://localhost:8080/",
          "height": 279
        }
      },
      "source": [
        "weights = clf.coef_\n",
        "bias = clf.intercept_\n",
        "utils.draw_line(weights[0][0], weights[0][1], bias)\n",
        "utils.plot_points(features, labels)\n",
        "plt.show()"
      ],
      "execution_count": 62,
      "outputs": [
        {
          "output_type": "display_data",
          "data": {
            "text/plain": [
              "<Figure size 432x288 with 1 Axes>"
            ],
            "image/png": "[encoded data removed]"
          },
          "metadata": {
            "needs_background": "light"
          }
        }
      ]
    },
    {
      "cell_type": "code",
      "source": [
        ""
      ],
      "metadata": {
        "id": "k8EWCxbNWuvr"
      },
      "execution_count": null,
      "outputs": []
    }
  ]
}