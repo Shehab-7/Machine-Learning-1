{
  "nbformat": 4,
  "nbformat_minor": 0,
  "metadata": {
    "kernelspec": {
      "display_name": "Python 3",
      "language": "python",
      "name": "python3"
    },
    "language_info": {
      "codemirror_mode": {
        "name": "ipython",
        "version": 3
      },
      "file_extension": ".py",
      "mimetype": "text/x-python",
      "name": "python",
      "nbconvert_exporter": "python",
      "pygments_lexer": "ipython3",
      "version": "3.7.6"
    },
    "colab": {
      "name": "Copy of Coding_logistic_regression.ipynb",
      "provenance": []
    }
  },
  "cells": [
    {
      "cell_type": "markdown",
      "metadata": {
        "id": "il6Znbz7R-bz"
      },
      "source": [
        "# Sentiment analysis with Logistic Regression\n",
        "\n",
        "### Some plotting functions"
      ]
    },
    {
      "cell_type": "code",
      "metadata": {
        "id": "rOeTLDZTR_-2",
        "outputId": "f2e10e06-0e3e-40aa-b61d-c31f14305c8e",
        "colab": {
          "base_uri": "https://localhost:8080/"
        }
      },
      "source": [
        "!git clone https://github.com/s7s/machine_learning_1.git\n",
        "%cd  machine_learning_1/logistic_regression"
      ],
      "execution_count": 1,
      "outputs": [
        {
          "output_type": "stream",
          "name": "stdout",
          "text": [
            "Cloning into 'machine_learning_1'...\n",
            "remote: Enumerating objects: 186, done.\u001b[K\n",
            "remote: Counting objects: 100% (186/186), done.\u001b[K\n",
            "remote: Compressing objects: 100% (134/134), done.\u001b[K\n",
            "remote: Total 186 (delta 85), reused 150 (delta 49), pack-reused 0\u001b[K\n",
            "Receiving objects: 100% (186/186), 34.12 MiB | 16.83 MiB/s, done.\n",
            "Resolving deltas: 100% (85/85), done.\n",
            "/content/machine_learning_1/logistic_regression\n"
          ]
        }
      ]
    },
    {
      "cell_type": "code",
      "metadata": {
        "id": "nRr0Q1KKR-b5"
      },
      "source": [
        "# Importing packages\n",
        "from matplotlib import pyplot as plt\n",
        "import numpy as np\n",
        "import random\n",
        "import utils"
      ],
      "execution_count": 2,
      "outputs": []
    },
    {
      "cell_type": "code",
      "metadata": {
        "id": "cAeOp-VVR-b6"
      },
      "source": [
        "import numpy as np\n",
        "features = np.array([[1,0],[0,2],[1,1],[1,2],[1,3],[2,2],[3,2],[2,3]])\n",
        "labels = np.array([0,0,0,0,1,1,1,1])"
      ],
      "execution_count": 3,
      "outputs": []
    },
    {
      "cell_type": "code",
      "metadata": {
        "id": "GD55Gk4CR-b7",
        "outputId": "ad2bda41-4fff-42c2-944b-ea5dc6c900ff",
        "colab": {
          "base_uri": "https://localhost:8080/",
          "height": 279
        }
      },
      "source": [
        "# Plotting the points\n",
        "utils.plot_points(features, labels)"
      ],
      "execution_count": 4,
      "outputs": [
        {
          "output_type": "display_data",
          "data": {
            "text/plain": [
              "<Figure size 432x288 with 1 Axes>"
            ],
            "image/png": "[encoded data removed]"
          },
          "metadata": {
            "needs_background": "light"
          }
        }
      ]
    },
    {
      "cell_type": "markdown",
      "metadata": {
        "id": "3-Yf7M9jR-b8"
      },
      "source": [
        "### Logistic regression"
      ]
    },
    {
      "cell_type": "code",
      "metadata": {
        "id": "kydHv25YR-b9"
      },
      "source": [
        "def sigmoid(x):\n",
        "    ## TODO ##\n",
        "    # implement sigmoid function\n",
        "    output = 1/(1+np.exp(-x))\n",
        "    return output\n",
        "\n",
        "def score(weights, bias, features):\n",
        "    return np.dot(weights, features) + bias \n",
        "\n",
        "def prediction(weights, bias, features):\n",
        "    ## TODO ##\n",
        "    # implement prediction calculation using sigmoid and score functions\n",
        "    prediction = sigmoid(score(weights, bias, features))\n",
        "    return prediction\n",
        "\n",
        "def log_loss(weights, bias, features, label):\n",
        "    ## TODO ##\n",
        "    # implement log_loss calculation using prediction function\n",
        "    pred = prediction(weights, bias, features)\n",
        "    log_loss = (-label*(np.log(pred)))-((1-label)*(np.log(1-pred)))\n",
        "    return log_loss\n",
        "\n",
        "def total_log_loss(weights, bias, X, y):\n",
        "    total_error = 0\n",
        "    for i in range(len(X)):\n",
        "        total_error += log_loss(weights, bias, X[i], y[i])\n",
        "    return total_error"
      ],
      "execution_count": 23,
      "outputs": []
    },
    {
      "cell_type": "code",
      "metadata": {
        "id": "29JrFSMKR-b9"
      },
      "source": [
        "def logistic_trick(weights, bias, features, label, learning_rate = 0.01):\n",
        "    ## TODO ##\n",
        "    # update the weights and bias using a single data sample\n",
        "    pred = prediction(weights, bias, features)\n",
        "    for i in range(len(features)):\n",
        "       weights += learning_rate*(label-pred)*features[i]\n",
        "    bias += learning_rate*(label-pred)\n",
        "    return weights, bias"
      ],
      "execution_count": 42,
      "outputs": []
    },
    {
      "cell_type": "code",
      "metadata": {
        "id": "GQGwdC2qR-b-"
      },
      "source": [
        "def logistic_regression_algorithm(features, labels, learning_rate = 0.01, epochs = 20000):\n",
        "    utils.plot_points(features, labels)\n",
        "    weights = [1.0 for i in range(len(features[0]))]\n",
        "    bias = 0.0\n",
        "    errors = []\n",
        "    for i in range(epochs):\n",
        "        # Comment the following line of code to remove the plots of all the classifiers\n",
        "        #utils.draw_line(weights[0], weights[1], bias, color='grey', linewidth=0.1, linestyle='dotted')\n",
        "        errors.append(total_log_loss(weights, bias, features, labels))\n",
        "        j = random.randint(0, len(features)-1)\n",
        "        weights, bias = logistic_trick(weights, bias, features[j], labels[j])\n",
        "    utils.draw_line(weights[0], weights[1], bias)\n",
        "    plt.show()\n",
        "    plt.scatter(range(epochs), errors)\n",
        "    plt.xlabel('epochs')\n",
        "    plt.ylabel('error')\n",
        "    return weights, bias"
      ],
      "execution_count": 50,
      "outputs": []
    },
    {
      "cell_type": "code",
      "metadata": {
        "id": "vDRk2mytR-b-",
        "outputId": "1f32789f-268d-487c-ad1b-c32a19644c26",
        "colab": {
          "base_uri": "https://localhost:8080/",
          "height": 561
        }
      },
      "source": [
        "logistic_regression_algorithm(features, labels)"
      ],
      "execution_count": 51,
      "outputs": [
        {
          "output_type": "display_data",
          "data": {
            "text/plain": [
              "<Figure size 432x288 with 1 Axes>"
            ],
            "image/png": "[encoded data removed]"
          },
          "metadata": {
            "needs_background": "light"
          }
        },
        {
          "output_type": "execute_result",
          "data": {
            "text/plain": [
              "(array([2.42773109, 2.42773109]), -7.995437564061608)"
            ]
          },
          "metadata": {},
          "execution_count": 51
        },
        {
          "output_type": "display_data",
          "data": {
            "text/plain": [
              "<Figure size 432x288 with 1 Axes>"
            ],
            "image/png": "[encoded data removed]"
          },
          "metadata": {
            "needs_background": "light"
          }
        }
      ]
    },
    {
      "cell_type": "markdown",
      "metadata": {
        "id": "xmClMFaqR-b_"
      },
      "source": [
        "# Logistic SKlearn"
      ]
    },
    {
      "cell_type": "code",
      "metadata": {
        "id": "WA3A3BVtR-b_"
      },
      "source": [
        "from sklearn.linear_model import LogisticRegression\n",
        "## TODO ##\n",
        "# Use SKlearn to train logistic regression\n",
        "clf=LogisticRegression().fit(features,labels)"
      ],
      "execution_count": 45,
      "outputs": []
    },
    {
      "cell_type": "code",
      "metadata": {
        "id": "KhVzpskEhGg6",
        "outputId": "9fcac539-b1c7-41e6-e2c3-73dba51cbb31",
        "colab": {
          "base_uri": "https://localhost:8080/"
        }
      },
      "source": [
        "clf.score(features, labels)"
      ],
      "execution_count": 46,
      "outputs": [
        {
          "output_type": "execute_result",
          "data": {
            "text/plain": [
              "1.0"
            ]
          },
          "metadata": {},
          "execution_count": 46
        }
      ]
    },
    {
      "cell_type": "code",
      "metadata": {
        "id": "VN-ld0NkR-b_",
        "outputId": "ee5f4899-d3fc-4512-8626-04b70053a892",
        "colab": {
          "base_uri": "https://localhost:8080/",
          "height": 281
        }
      },
      "source": [
        "weights = clf.coef_\n",
        "bias = clf.intercept_\n",
        "utils.draw_line(weights[0][0], weights[0][1], bias)\n",
        "utils.plot_points(features, labels)\n",
        "plt.show()"
      ],
      "execution_count": 47,
      "outputs": [
        {
          "output_type": "display_data",
          "data": {
            "text/plain": [
              "<Figure size 432x288 with 1 Axes>"
            ],
            "image/png": "[encoded data removed]"
          },
          "metadata": {
            "needs_background": "light"
          }
        }
      ]
    },
    {
      "cell_type": "code",
      "source": [
        ""
      ],
      "metadata": {
        "id": "0o2NHyaPX8xl"
      },
      "execution_count": null,
      "outputs": []
    }
  ]
}