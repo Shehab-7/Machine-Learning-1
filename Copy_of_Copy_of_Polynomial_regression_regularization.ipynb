{
  "nbformat": 4,
  "nbformat_minor": 0,
  "metadata": {
    "kernelspec": {
      "display_name": "Python 3",
      "language": "python",
      "name": "python3"
    },
    "language_info": {
      "codemirror_mode": {
        "name": "ipython",
        "version": 3
      },
      "file_extension": ".py",
      "mimetype": "text/x-python",
      "name": "python",
      "nbconvert_exporter": "python",
      "pygments_lexer": "ipython3",
      "version": "3.7.6"
    },
    "colab": {
      "name": "Copy of Copy of Polynomial_regression_regularization.ipynb",
      "provenance": [],
      "collapsed_sections": [],
      "include_colab_link": true
    }
  },
  "cells": [
    {
      "cell_type": "markdown",
      "metadata": {
        "id": "view-in-github",
        "colab_type": "text"
      },
      "source": [
        "<a href=\"https://colab.research.google.com/github/Shehab-7/Machine-Learning-1/blob/main/Copy_of_Copy_of_Polynomial_regression_regularization.ipynb\" target=\"_parent\"><img src=\"https://colab.research.google.com/assets/colab-badge.svg\" alt=\"Open In Colab\"/></a>"
      ]
    },
    {
      "cell_type": "markdown",
      "metadata": {
        "id": "eyjewtSBMA95"
      },
      "source": [
        "# Testing and regularization"
      ]
    },
    {
      "cell_type": "code",
      "metadata": {
        "id": "y_RXtj1eMCb3",
        "outputId": "5bcd869d-576b-4b0a-fd1a-9f72af869a6a",
        "colab": {
          "base_uri": "https://localhost:8080/"
        }
      },
      "source": [
        "!git clone https://github.com/s7s/machine_learning_1.git\n",
        "%cd  machine_learning_1/polynomial_regression"
      ],
      "execution_count": 3,
      "outputs": [
        {
          "output_type": "stream",
          "name": "stdout",
          "text": [
            "Cloning into 'machine_learning_1'...\n",
            "remote: Enumerating objects: 186, done.\u001b[K\n",
            "remote: Counting objects: 100% (186/186), done.\u001b[K\n",
            "remote: Compressing objects: 100% (134/134), done.\u001b[K\n",
            "remote: Total 186 (delta 85), reused 150 (delta 49), pack-reused 0\u001b[K\n",
            "Receiving objects: 100% (186/186), 34.12 MiB | 20.55 MiB/s, done.\n",
            "Resolving deltas: 100% (85/85), done.\n",
            "/content/machine_learning_1/polynomial_regression\n"
          ]
        }
      ]
    },
    {
      "cell_type": "code",
      "metadata": {
        "id": "YpX56PtFMA-A"
      },
      "source": [
        "import pandas as pd\n",
        "import numpy as np\n",
        "import random\n",
        "import matplotlib.pyplot as plt\n",
        "random.seed(0)"
      ],
      "execution_count": 4,
      "outputs": []
    },
    {
      "cell_type": "markdown",
      "metadata": {
        "id": "WBD0ZY2wMA-B"
      },
      "source": [
        "## Defining our dataset"
      ]
    },
    {
      "cell_type": "code",
      "metadata": {
        "id": "4sDgbZNRMA-C",
        "outputId": "cb72a5d4-4bf7-4553-d661-d8d437d46808",
        "colab": {
          "base_uri": "https://localhost:8080/",
          "height": 269
        }
      },
      "source": [
        "# Our original polynomial is -x^2+x+15\n",
        "coefs = [15,1,-1]\n",
        "\n",
        "def polynomial(coefs, x):\n",
        "    n = len(coefs)\n",
        "    return sum([coefs[i]*x**i for i in range(n)])\n",
        "\n",
        "def draw_polynomial(coefs):\n",
        "    n = len(coefs)\n",
        "    x = np.linspace(-5, 5, 1000)\n",
        "    plt.ylim(-20,20)\n",
        "    plt.plot(x, sum([coefs[i]*x**i for i in range(n)]), linestyle='-', color='black')\n",
        "\n",
        "draw_polynomial(coefs)"
      ],
      "execution_count": 5,
      "outputs": [
        {
          "output_type": "display_data",
          "data": {
            "text/plain": [
              "<Figure size 432x288 with 1 Axes>"
            ],
            "image/png": "[encoded data removed]"
          },
          "metadata": {
            "needs_background": "light"
          }
        }
      ]
    },
    {
      "cell_type": "code",
      "metadata": {
        "id": "WvGqHRFCMA-E"
      },
      "source": [
        "X = []\n",
        "Y = []\n",
        "for i in range(40):\n",
        "    x = random.uniform(-5,5)\n",
        "    y = polynomial(coefs, x) + random.gauss(0,2)\n",
        "    X.append(x)\n",
        "    Y.append(y)\n",
        "X=np.array(X)\n",
        "Y=np.array(Y)"
      ],
      "execution_count": 6,
      "outputs": []
    },
    {
      "cell_type": "code",
      "metadata": {
        "id": "ETQxgGiFMA-E",
        "outputId": "63bc1b01-9f0b-4442-cb51-184d48815591",
        "colab": {
          "base_uri": "https://localhost:8080/",
          "height": 282
        }
      },
      "source": [
        "plt.scatter(X, Y)\n",
        "#draw_polynomial(coefs)"
      ],
      "execution_count": 7,
      "outputs": [
        {
          "output_type": "execute_result",
          "data": {
            "text/plain": [
              "<matplotlib.collections.PathCollection at 0x7f47982f0f90>"
            ]
          },
          "metadata": {},
          "execution_count": 7
        },
        {
          "output_type": "display_data",
          "data": {
            "text/plain": [
              "<Figure size 432x288 with 1 Axes>"
            ],
            "image/png": "[encoded data removed]"
          },
          "metadata": {
            "needs_background": "light"
          }
        }
      ]
    },
    {
      "cell_type": "markdown",
      "metadata": {
        "id": "wLUfmV9iMA-F"
      },
      "source": [
        "## Training a polynomial regression model"
      ]
    },
    {
      "cell_type": "code",
      "metadata": {
        "id": "xsNmJ6hoGPjb",
        "outputId": "eada2dfe-9abb-4c4a-99f4-70caa200114c",
        "colab": {
          "base_uri": "https://localhost:8080/"
        }
      },
      "source": [
        "for datasample in zip(X,Y):\n",
        "    print(datasample)"
      ],
      "execution_count": 8,
      "outputs": [
        {
          "output_type": "stream",
          "name": "stdout",
          "text": [
            "(3.4442185152504816, 6.685961311021467)\n",
            "(-2.4108324970703663, 4.690236225597948)\n",
            "(0.11274721368608542, 12.205789026637378)\n",
            "(-1.9668727392107255, 11.133217991032268)\n",
            "(-0.23403045847644144, 10.927272159051856)\n",
            "(0.046868558173902564, 12.8584762866286)\n",
            "(-2.1816215560029617, 8.16012255928749)\n",
            "(-2.4949365863755943, 3.5061587527226514)\n",
            "(4.097462559682402, 5.933186396721837)\n",
            "(4.021659504395828, 2.454299054753137)\n",
            "(-1.8985243068066735, 8.956020414039855)\n",
            "(1.8398393191544127, 9.208004401915796)\n",
            "(-0.2785728454728664, 16.36505651355184)\n",
            "(1.1088697344380165, 16.14144978027318)\n",
            "(4.130110532378982, 4.299534274468492)\n",
            "(3.6530992777164, 4.83366913200435)\n",
            "(-2.395076896080406, 7.723543125251446)\n",
            "(-4.8595829983598104, -15.848718674227753)\n",
            "(2.1970468640395415, 9.366124268570305)\n",
            "(1.6815320123185087, 16.070558182542374)\n",
            "(-4.988571806855717, -18.893035332565795)\n",
            "(-2.5608912311286804, 6.043189895391749)\n",
            "(-1.7479563725260991, 11.091071520573042)\n",
            "(0.6751074062067186, 14.272553413210698)\n",
            "(-2.6138407138477984, 9.085321805751548)\n",
            "(-0.5203042856442961, 13.47860807272069)\n",
            "(-4.195541814474646, -7.812998091307244)\n",
            "(4.3283382422690675, 2.748647759010411)\n",
            "(-3.909421540688963, -7.163796336350065)\n",
            "(0.4744091132842376, 14.257854146830486)\n",
            "(3.14466863291336, 3.2664703661537313)\n",
            "(1.0318562796138302, 13.67662422703284)\n",
            "(0.8761706417543635, 12.57404063707232)\n",
            "(-1.1509885402733957, 13.436894195835206)\n",
            "(0.7565101416488851, 14.859288476607356)\n",
            "(-3.132704717444449, 3.3081236367340967)\n",
            "(1.1277317986860673, 13.596584816754236)\n",
            "(-4.1017563880440635, -7.821475002235993)\n",
            "(2.576039219664368, 14.181083579723474)\n",
            "(3.424602231401824, 3.5269925176080537)\n"
          ]
        }
      ]
    },
    {
      "cell_type": "markdown",
      "metadata": {
        "id": "Pze2ZphQMA-G"
      },
      "source": [
        "### Adding columns to our dataset corresponding to $x^2, x^3, \\ldots, x^{200}$"
      ]
    },
    {
      "cell_type": "code",
      "metadata": {
        "id": "c2XZgASOGfVv",
        "outputId": "39850048-480f-40c0-8131-34ea9a297a88",
        "colab": {
          "base_uri": "https://localhost:8080/"
        }
      },
      "source": [
        "from sklearn.preprocessing import PolynomialFeatures\n",
        "def addPoly(X,polyDegree):\n",
        "    ## TODO ##\n",
        "    #use sklearn (PolynomialFeatures method)\n",
        "    trans = PolynomialFeatures(degree=polyDegree,include_bias=False)\n",
        "    X = trans.fit_transform(X.reshape(-1,1))\n",
        "    print(X)\n",
        "\n",
        "    return X\n",
        "X_poly=addPoly(X,200)"
      ],
      "execution_count": 9,
      "outputs": [
        {
          "output_type": "stream",
          "name": "stdout",
          "text": [
            "[[ 3.44421852e+000  1.18626412e+001  4.08575284e+001 ...  2.20779131e+106\n",
            "   7.60411570e+106  2.61902361e+107]\n",
            " [-2.41083250e+000  5.81211333e+000 -1.40120317e+001 ...  4.66738168e+075\n",
            "  -1.12522754e+076  2.71273512e+076]\n",
            " [ 1.12747214e-001  1.27119342e-002  1.43323516e-003 ...  2.07468402e-188\n",
            "   2.33914843e-189  2.63732468e-190]\n",
            " ...\n",
            " [-4.10175639e+000  1.68244055e+001 -6.90096126e+001 ...  2.33363484e+121\n",
            "  -9.57200162e+121  3.92620188e+122]\n",
            " [ 2.57603922e+000  6.63597806e+000  1.70945397e+001 ...  2.33662605e+081\n",
            "   6.01924036e+081  1.55057992e+082]\n",
            " [ 3.42460223e+000  1.17279004e+001  4.01633940e+001 ...  7.12535971e+105\n",
            "   2.44015227e+106  8.35655093e+106]]\n"
          ]
        }
      ]
    },
    {
      "cell_type": "code",
      "metadata": {
        "id": "kKXdyM7fGzLC",
        "outputId": "e0651b4b-ba8b-4979-94a1-ee0d9d2af147",
        "colab": {
          "base_uri": "https://localhost:8080/"
        }
      },
      "source": [
        "print(X_poly.shape)\n",
        "print(X_poly[0,:])"
      ],
      "execution_count": 10,
      "outputs": [
        {
          "output_type": "stream",
          "name": "stdout",
          "text": [
            "(40, 200)\n",
            "[3.44421852e+000 1.18626412e+001 4.08575284e+001 1.40722256e+002\n",
            " 4.84678199e+002 1.66933763e+003 5.74956356e+003 1.98027533e+004\n",
            " 6.82050095e+004 2.34912956e+005 8.09091554e+005 2.78668811e+006\n",
            " 9.59796279e+006 3.30574811e+007 1.13857189e+008 3.92149037e+008\n",
            " 1.35064697e+009 4.65192332e+009 1.60222404e+010 5.51840971e+010\n",
            " 1.90066089e+011 6.54629143e+011 2.25468581e+012 7.76563063e+012\n",
            " 2.67465288e+013 9.21208897e+013 3.17284474e+014 1.09279706e+015\n",
            " 3.76383187e+015 1.29634594e+016 4.46489869e+016 1.53780867e+017\n",
            " 5.29654911e+017 1.82424725e+018 6.28310616e+018 2.16403906e+019\n",
            " 7.45342338e+019 2.56712188e+020 8.84172871e+020 3.04528457e+021\n",
            " 1.04886255e+022 3.61251182e+022 1.24422801e+023 4.28539315e+023\n",
            " 1.47598304e+024 5.08360812e+024 1.75090572e+025 6.03050191e+025\n",
            " 2.07703663e+026 7.15376803e+026 2.46391403e+027 8.48625832e+027\n",
            " 2.92285280e+028 1.00669437e+029 3.46727540e+029 1.19420541e+030\n",
            " 4.11310440e+030 1.41664303e+031 4.87922816e+031 1.68051280e+032\n",
            " 5.78805329e+032 1.99353203e+033 6.86615993e+033 2.36485552e+034\n",
            " 8.14507916e+034 2.80534324e+035 9.66221514e+035 3.32787803e+036\n",
            " 1.14619391e+037 3.94774230e+037 1.35968871e+038 4.68306503e+038\n",
            " 1.61294993e+039 5.55535201e+039 1.91338463e+040 6.59011475e+040\n",
            " 2.26977953e+041 7.81761667e+041 2.69255801e+042 9.27375814e+042\n",
            " 3.19408495e+043 1.10011265e+044 3.78902837e+044 1.30502417e+045\n",
            " 4.49478839e+045 1.54810334e+046 5.33200619e+046 1.83645944e+047\n",
            " 6.32516762e+047 2.17852594e+048 7.50331939e+048 2.58430716e+049\n",
            " 8.90091855e+049 3.06567085e+050 1.05588403e+051 3.63669533e+051\n",
            " 1.25255734e+052 4.31408117e+052 1.48586383e+053 5.11763970e+053\n",
            " 1.76262694e+054 6.07087234e+054 2.09094109e+055 7.20165803e+055\n",
            " 2.48040839e+056 8.54306851e+056 2.94241947e+057 1.01343356e+058\n",
            " 3.49048664e+058 1.20219987e+059 4.14063906e+059 1.42612657e+060\n",
            " 4.91189154e+060 1.69176278e+061 5.82680069e+061 2.00687748e+062\n",
            " 6.91212458e+062 2.38068674e+063 8.19960536e+063 2.82412326e+064\n",
            " 9.72689763e+064 3.35015609e+065 1.15386696e+066 3.97416996e+066\n",
            " 1.36879098e+067 4.71441522e+067 1.62374762e+068 5.59254162e+068\n",
            " 1.92619354e+069 6.63423145e+069 2.28497428e+070 7.86995072e+070\n",
            " 2.71058300e+071 9.33584015e+071 3.21546735e+072 1.10747722e+073\n",
            " 3.81439354e+073 1.31376049e+074 4.52487819e+074 1.55846692e+075\n",
            " 5.36770063e+075 1.84875339e+076 6.36751066e+076 2.19310981e+077\n",
            " 7.55354941e+077 2.60160747e+078 8.96050463e+078 3.08619360e+079\n",
            " 1.06295251e+080 3.66104073e+080 1.26094243e+081 4.34296125e+081\n",
            " 1.49581075e+082 5.15189909e+082 1.77442662e+083 6.11151303e+083\n",
            " 2.10493864e+084 7.24986862e+084 2.49701317e+085 8.60025901e+085\n",
            " 2.96211713e+086 1.02021787e+087 3.51385326e+087 1.21024785e+088\n",
            " 4.16835804e+088 1.43567360e+089 4.94477358e+089 1.70308807e+090\n",
            " 5.86580747e+090 2.02031227e+091 6.95839692e+091 2.39662395e+092\n",
            " 8.25449659e+092 2.84302900e+093 9.79201312e+093 3.37258329e+094\n",
            " 1.16159138e+095 4.00077454e+095 1.37795417e+096 4.74597528e+096\n",
            " 1.63461759e+097 5.62998018e+097 1.93908820e+098 6.67864348e+098\n",
            " 2.30027075e+099 7.92263511e+099 2.72872865e+100 9.39833775e+100\n",
            " 3.23699289e+101 1.11489108e+102 3.83992852e+102 1.32255529e+103\n",
            " 4.55516942e+103 1.56889988e+104 5.40363403e+104 1.86112964e+105\n",
            " 6.41013716e+105 2.20779131e+106 7.60411570e+106 2.61902361e+107]\n"
          ]
        }
      ]
    },
    {
      "cell_type": "markdown",
      "metadata": {
        "id": "S8uYLISVMA-H"
      },
      "source": [
        "## Splitting data into training and testing"
      ]
    },
    {
      "cell_type": "code",
      "metadata": {
        "id": "fVnfiOyqMNLg",
        "outputId": "1b4d6087-f97f-48c8-b9a8-758054ab964c",
        "colab": {
          "base_uri": "https://localhost:8080/"
        }
      },
      "source": [
        "from re import T\n",
        "from sklearn.model_selection import train_test_split\n",
        "## TODO ##\n",
        "# use sklearn (train_test_split) to split data to 80% training 20% testing\n",
        "X_train, X_test, y_train, y_test = train_test_split(X_poly,Y,test_size=0.2)\n",
        "X_train.reshape(-1,1)\n",
        "y_train.reshape(-1,1)\n",
        "X_test.reshape(-1,1)\n",
        "y_test.reshape(-1,1)"
      ],
      "execution_count": 11,
      "outputs": [
        {
          "output_type": "execute_result",
          "data": {
            "text/plain": [
              "array([[14.85928848],\n",
              "       [-7.821475  ],\n",
              "       [13.47860807],\n",
              "       [11.13321799],\n",
              "       [ 6.68596131],\n",
              "       [ 8.16012256],\n",
              "       [16.36505651],\n",
              "       [-7.16379634]])"
            ]
          },
          "metadata": {},
          "execution_count": 11
        }
      ]
    },
    {
      "cell_type": "code",
      "metadata": {
        "id": "WmHYknzXMA-I"
      },
      "source": [
        "from sklearn.metrics import mean_squared_error\n",
        "def display_results(model):\n",
        "    coefs = [model.intercept_]\n",
        "    coefs += list(model.coef_)\n",
        "    ytrain_predict=model.predict(X_train)\n",
        "    ytest_predict=model.predict(X_test)\n",
        "    train_error=np.sqrt(mean_squared_error(y_train,ytrain_predict))\n",
        "    test_error=np.sqrt(mean_squared_error(y_test,ytest_predict))\n",
        "    print(\"Training error (rmse):\", train_error)\n",
        "    print(\"Testing error (rmse):\", test_error)\n",
        "    plt.scatter(X_train[:,0], y_train, marker='o')\n",
        "    plt.scatter(X_test[:,0], y_test, marker='^')\n",
        "    draw_polynomial(coefs)\n",
        "    plt.show()\n",
        "    print(\"Polynomial coefficients\")\n",
        "    print(coefs)"
      ],
      "execution_count": 12,
      "outputs": []
    },
    {
      "cell_type": "markdown",
      "metadata": {
        "id": "G9x4Q5S3MA-I"
      },
      "source": [
        "## Training a polynomial regression model with no regularization"
      ]
    },
    {
      "cell_type": "code",
      "metadata": {
        "id": "QKm7sV7JMA-J",
        "outputId": "7d2ac0a5-1b5b-4303-c908-cc58b063b9a8",
        "colab": {
          "base_uri": "https://localhost:8080/"
        }
      },
      "source": [
        "from sklearn.linear_model import LinearRegression\n",
        "## TODO ##\n",
        "# use sklearn linear regression to fit the data \n",
        "# normalization trick ;)\n",
        "model_no_reg = LinearRegression(normalize=True,alpha=0.1).fit(X_train,y_train)\n",
        "model_no_reg.score(X_test,y_test)"
      ],
      "execution_count": 13,
      "outputs": [
        {
          "output_type": "stream",
          "name": "stderr",
          "text": [
            "/usr/local/lib/python3.7/dist-packages/sklearn/linear_model/_base.py:145: FutureWarning: 'normalize' was deprecated in version 1.0 and will be removed in 1.2.\n",
            "If you wish to scale the data, use Pipeline with a StandardScaler in a preprocessing stage. To reproduce the previous behavior:\n",
            "\n",
            "from sklearn.pipeline import make_pipeline\n",
            "\n",
            "model = make_pipeline(StandardScaler(with_mean=False), LinearRegression())\n",
            "\n",
            "If you wish to pass a sample_weight parameter, you need to pass it as a fit parameter to each step of the pipeline as follows:\n",
            "\n",
            "kwargs = {s[0] + '__sample_weight': sample_weight for s in model.steps}\n",
            "model.fit(X, y, **kwargs)\n",
            "\n",
            "\n",
            "  FutureWarning,\n"
          ]
        },
        {
          "output_type": "execute_result",
          "data": {
            "text/plain": [
              "-1.029539806887712e+16"
            ]
          },
          "metadata": {},
          "execution_count": 13
        }
      ]
    },
    {
      "cell_type": "code",
      "metadata": {
        "id": "uje8MamakgwD",
        "outputId": "9299287c-c578-43b3-9fdc-4af83d86b9df",
        "colab": {
          "base_uri": "https://localhost:8080/",
          "height": 358
        }
      },
      "source": [
        "display_results(model_no_reg)"
      ],
      "execution_count": 33,
      "outputs": [
        {
          "output_type": "stream",
          "name": "stdout",
          "text": [
            "Training error (rmse): 0.5225071862389531\n",
            "Testing error (rmse): 900602794.8690469\n"
          ]
        },
        {
          "output_type": "display_data",
          "data": {
            "text/plain": [
              "<Figure size 432x288 with 1 Axes>"
            ],
            "image/png": "[encoded data removed]"
          },
          "metadata": {
            "needs_background": "light"
          }
        },
        {
          "output_type": "stream",
          "name": "stdout",
          "text": [
            "Polynomial coefficients\n",
            "[12.800938413280596, -2.449077036138541, -68.46190973653094, 101.7384919327781, 733.4302821475892, -1151.8853658644125, -1462.839006814204, 2573.0667214080336, 1320.3241659181638, -2601.056276201179, -675.8021000991296, 1464.5703789063234, 214.94074629681685, -498.3949848407751, -43.6420838031743, 105.13056329135914, 5.509976128218666, -13.456010244593568, -0.3953062836397, 0.942990057188737, 0.013902415063665805, -0.022704088661067195, -0.00042822515920486773, -0.0008639900505437914, 2.879651485493785e-05, 2.4760906440206135e-05, 9.71536419503276e-07, 1.5703125163875499e-06, -7.057244475582218e-08, 1.802011657770725e-08, -5.583836559705417e-09, -1.1348479970011231e-09, -1.4720963892648893e-10, -6.761438506226703e-11, 2.0790773584711257e-12, -1.9091541469289718e-12, 3.925390335270401e-13, -2.4267162648391732e-14, 2.1494217308862593e-14, 4.468426443179966e-16, 8.073422117718015e-16, 3.391504503862506e-17, 2.1386263481701265e-17, 6.323295528482447e-19, 3.0002176085895927e-19, -2.11476641747875e-20, -9.699004294959463e-21, -2.6036965623915013e-21, -9.795250102272876e-22, -1.4177665727659737e-22, -5.185370687164746e-23, -5.5748844084271554e-24, -2.121372680420117e-24, -1.6266678905981851e-25, -7.533571313525514e-26, -2.7178881224416702e-27, -2.3097508825625507e-27, 6.760668868440787e-29, -5.946528296184956e-29, 9.415327779037289e-30, -1.1663014701544607e-30, 6.055027229475915e-31, -1.2917157876456102e-33, 3.13031872135875e-32, 1.4141066706101864e-33, 1.4521897173901663e-33, 9.977522328124349e-35, 6.32375125247159e-35, 4.9686116229614183e-36, 2.568448530931184e-36, 2.1603319518834004e-37, 1.0273751065492922e-37, 8.553544197399966e-39, 3.9487414388602095e-39, 3.3691800327757957e-40, 1.4831030147665061e-40, 1.2359013490355655e-41, 5.378277009144081e-42, 4.423770271294248e-43, 1.962122325642527e-43, 1.4293744210799923e-44, 6.927844637020141e-45, 4.7421159961695686e-46, 2.4750618028255022e-46, 1.5643282173277766e-47, 8.639943966660482e-48, 5.0629778870389925e-49, 2.933725783039009e-49, 1.4056847230699615e-50, 1.0413435133691066e-50, 4.819991393715864e-52, 3.449893313749614e-52, 1.2858988909724217e-53, 1.21008414195954e-53, 2.3701691350044973e-55, 4.102773765704538e-55, 8.807592070459916e-57, 1.402011539730129e-56, 1.3198880867750492e-58, 4.373717735749892e-58, 2.2409465398059967e-61, 1.5554323797206333e-59, -4.624824012458086e-62, 5.149626211660071e-61, -6.820053302880256e-63, 1.711240265886023e-62, -4.9189101562239706e-64, 4.6612336970076e-64, -1.1169220628405388e-65, 1.7592653906564766e-65, 6.210717220877121e-68, 4.0053703678776916e-67, 1.6813120579165894e-69, 1.3896014009054124e-68, -3.290982522898006e-70, 4.3077712032020326e-70, 4.991389105936507e-71, 5.257153603285214e-72, 3.100621417537917e-72, 1.3631488269671391e-73, 7.447322812359914e-74, -1.4183087304331744e-74, 7.853322291209755e-75, -1.1610552432748871e-75, 3.560823735443302e-76, -4.781977682664443e-77, 8.230106693280613e-78, -2.752237796778303e-78, 6.232761840831834e-79, -1.135606804546568e-79, 3.1580628237525717e-80, -5.494897493618753e-81, 1.2769596684013754e-81, -2.3830730339310063e-82, 6.280037993134383e-83, -1.4938968192647585e-83, 2.4803555057666105e-84, -4.908128396115616e-85, 1.0822981444734786e-85, -1.875012010612297e-86, 3.8507129341987968e-87, -8.417777743506371e-88, 1.8735191968751557e-88, -3.2801343515436866e-89, 7.996619445334723e-90, -1.5526189326545406e-90, 3.337551384034571e-91, -6.771828676895595e-92, 1.2782377372682681e-92, -2.5304038906946144e-93, 6.368826752517111e-94, -1.1415509496454029e-94, 2.7030112033097725e-95, -5.022367054017743e-96, 9.610859191121044e-97, -2.161705188870635e-97, 3.8302735651305424e-98, -8.363724936257871e-99, 1.6821110398432798e-99, -3.697543068315528e-100, 7.839429069216087e-101, -1.569121044093789e-101, 2.6303917099831945e-102, -6.008586483641947e-103, 9.669184674300887e-104, -2.4772799203346154e-104, 4.949770240143024e-105, -8.805370988444195e-106, 1.970654808982096e-106, -3.8883119524339775e-107, 8.806816789957834e-108, -1.8895798826203637e-108, 3.5924195393595112e-109, -6.17647582781245e-110, 1.4601459488363663e-110, -2.7232997976943244e-111, 5.584338930578062e-112, -1.2289583443242248e-112, 2.0939545893089536e-113, -4.2199742149875045e-114, 9.260465707709808e-115, -1.7582584056022102e-115, 4.073712522525778e-116, -7.212270669672346e-117, 1.4563666702144267e-117, -3.1108768267493515e-118, 6.067328095268193e-119, -1.2447667642461113e-119, 2.5109514469579027e-120, -4.4898581199406565e-121, 1.003218082801612e-121, -2.1723161170758162e-122, 3.881526298589089e-123, -8.220530103661795e-124, 1.6665104199263655e-124, -3.4265081352206213e-125, 6.122681391285096e-126, -1.3527553445546096e-126, 2.617848985958279e-127, -5.711561007447933e-128, 1.1539652594114259e-128]\n"
          ]
        }
      ]
    },
    {
      "cell_type": "markdown",
      "metadata": {
        "id": "TLTU-3ojMA-J"
      },
      "source": [
        "## Training a polynomial regression model with L1 regularization"
      ]
    },
    {
      "cell_type": "code",
      "metadata": {
        "id": "sBfyPNvMMA-J",
        "colab": {
          "base_uri": "https://localhost:8080/"
        },
        "outputId": "f3ff7ec1-9d2c-46cf-e0fe-b02211b62478"
      },
      "source": [
        "from sklearn import linear_model\n",
        "## TODO ##\n",
        "# use sklearn Lasso (linear regression with L1 Norm) to fit the data \n",
        "# normalization trick ;)\n",
        "\n",
        "model_L1_reg = linear_model.Lasso(normalize=True,alpha=0.1).fit(X_train,y_train)\n",
        "model_L1_reg.score(X_test,y_test)"
      ],
      "execution_count": 34,
      "outputs": [
        {
          "output_type": "stream",
          "name": "stderr",
          "text": [
            "/usr/local/lib/python3.7/dist-packages/sklearn/linear_model/_base.py:145: FutureWarning: 'normalize' was deprecated in version 1.0 and will be removed in 1.2.\n",
            "If you wish to scale the data, use Pipeline with a StandardScaler in a preprocessing stage. To reproduce the previous behavior:\n",
            "\n",
            "from sklearn.pipeline import make_pipeline\n",
            "\n",
            "model = make_pipeline(StandardScaler(with_mean=False), Lasso())\n",
            "\n",
            "If you wish to pass a sample_weight parameter, you need to pass it as a fit parameter to each step of the pipeline as follows:\n",
            "\n",
            "kwargs = {s[0] + '__sample_weight': sample_weight for s in model.steps}\n",
            "model.fit(X, y, **kwargs)\n",
            "\n",
            "Set parameter alpha to: original_alpha * np.sqrt(n_samples). \n",
            "  FutureWarning,\n"
          ]
        },
        {
          "output_type": "execute_result",
          "data": {
            "text/plain": [
              "0.9072406908469024"
            ]
          },
          "metadata": {},
          "execution_count": 34
        }
      ]
    },
    {
      "cell_type": "code",
      "metadata": {
        "id": "LOYlQsU5MA-K",
        "colab": {
          "base_uri": "https://localhost:8080/",
          "height": 358
        },
        "outputId": "a9d68817-9f7f-455e-fcfe-4c48fc9066d5"
      },
      "source": [
        "display_results(model_L1_reg)"
      ],
      "execution_count": 35,
      "outputs": [
        {
          "output_type": "stream",
          "name": "stdout",
          "text": [
            "Training error (rmse): 2.142582718194833\n",
            "Testing error (rmse): 2.7032765155912357\n"
          ]
        },
        {
          "output_type": "display_data",
          "data": {
            "text/plain": [
              "<Figure size 432x288 with 1 Axes>"
            ],
            "image/png": "[encoded data removed]"
          },
          "metadata": {
            "needs_background": "light"
          }
        },
        {
          "output_type": "stream",
          "name": "stdout",
          "text": [
            "Polynomial coefficients\n",
            "[13.12251637775979, 0.4365314064286865, -0.8039693868677468, 0.0, -0.0, 0.0, -0.0, 9.96975002036529e-05, -0.0, 0.0, -0.0, 0.0, -0.0, 0.0, -0.0, 0.0, -0.0, 0.0, -0.0, 0.0, -0.0, 0.0, -0.0, 0.0, -0.0, 0.0, -0.0, 0.0, -0.0, 0.0, -0.0, 0.0, -0.0, 0.0, -0.0, 0.0, -0.0, 0.0, -0.0, 0.0, -0.0, 0.0, -0.0, 0.0, -0.0, 0.0, -0.0, 0.0, -0.0, 0.0, -0.0, 0.0, -0.0, 0.0, -0.0, 0.0, -0.0, 0.0, -0.0, 0.0, -0.0, 0.0, -0.0, 0.0, -0.0, 0.0, -0.0, 0.0, -0.0, 0.0, -0.0, 0.0, -0.0, 0.0, -0.0, 0.0, -0.0, 0.0, -0.0, 0.0, -0.0, 0.0, -0.0, 0.0, -0.0, 0.0, -0.0, 0.0, -0.0, 0.0, -0.0, 0.0, -0.0, 0.0, -0.0, 0.0, -0.0, 0.0, -0.0, 0.0, -0.0, 0.0, -0.0, 0.0, -0.0, 0.0, -0.0, 0.0, -0.0, 0.0, -0.0, 0.0, -0.0, 0.0, -0.0, 0.0, -0.0, 0.0, -0.0, 0.0, -0.0, 0.0, -0.0, 0.0, -0.0, 0.0, -0.0, 0.0, -0.0, 0.0, -0.0, 0.0, -0.0, 0.0, -0.0, 0.0, -0.0, 0.0, -0.0, 0.0, -0.0, 0.0, -0.0, 0.0, -0.0, 0.0, -0.0, 0.0, -0.0, 0.0, -0.0, 0.0, -0.0, 0.0, -0.0, 0.0, -0.0, 0.0, -0.0, 0.0, -0.0, 0.0, -0.0, 0.0, -0.0, 0.0, -0.0, 0.0, -0.0, 0.0, -0.0, 0.0, -0.0, 0.0, -0.0, 0.0, -0.0, 0.0, -0.0, 0.0, -0.0, 0.0, -0.0, 0.0, -0.0, 0.0, -0.0, 0.0, -0.0, 0.0, -0.0, 0.0, -0.0, 0.0, -0.0, 0.0, -0.0, 0.0, -0.0, 0.0, -0.0]\n"
          ]
        }
      ]
    },
    {
      "cell_type": "markdown",
      "metadata": {
        "id": "21v4zgmbMA-K"
      },
      "source": [
        "## Training a polynomial regression model with L2 regularization"
      ]
    },
    {
      "cell_type": "code",
      "metadata": {
        "id": "MrSeiPXPMA-K",
        "colab": {
          "base_uri": "https://localhost:8080/"
        },
        "outputId": "1c87882b-85ce-4749-8074-ed428967c093"
      },
      "source": [
        "from sklearn import linear_model\n",
        "## TODO ##\n",
        "# use sklearn Ridge (linear regression with L2 Norm) to fit the data \n",
        "# normalization trick ;)\n",
        "\n",
        "model_L2_reg = linear_model.Ridge(normalize=True,alpha=0.1).fit(X_train,y_train)\n",
        "model_L2_reg.score(X_test,y_test)"
      ],
      "execution_count": 36,
      "outputs": [
        {
          "output_type": "stream",
          "name": "stderr",
          "text": [
            "/usr/local/lib/python3.7/dist-packages/sklearn/linear_model/_base.py:145: FutureWarning: 'normalize' was deprecated in version 1.0 and will be removed in 1.2.\n",
            "If you wish to scale the data, use Pipeline with a StandardScaler in a preprocessing stage. To reproduce the previous behavior:\n",
            "\n",
            "from sklearn.pipeline import make_pipeline\n",
            "\n",
            "model = make_pipeline(StandardScaler(with_mean=False), Ridge())\n",
            "\n",
            "If you wish to pass a sample_weight parameter, you need to pass it as a fit parameter to each step of the pipeline as follows:\n",
            "\n",
            "kwargs = {s[0] + '__sample_weight': sample_weight for s in model.steps}\n",
            "model.fit(X, y, **kwargs)\n",
            "\n",
            "Set parameter alpha to: original_alpha * n_samples. \n",
            "  FutureWarning,\n"
          ]
        },
        {
          "output_type": "execute_result",
          "data": {
            "text/plain": [
              "0.9172321470226672"
            ]
          },
          "metadata": {},
          "execution_count": 36
        }
      ]
    },
    {
      "cell_type": "code",
      "metadata": {
        "id": "TyLoFFM_MA-L",
        "colab": {
          "base_uri": "https://localhost:8080/",
          "height": 358
        },
        "outputId": "e67466e9-2608-42d8-83eb-1cdddd386b54"
      },
      "source": [
        "display_results(model_L2_reg)"
      ],
      "execution_count": 37,
      "outputs": [
        {
          "output_type": "stream",
          "name": "stdout",
          "text": [
            "Training error (rmse): 2.152797830067381\n",
            "Testing error (rmse): 2.5535394023451667\n"
          ]
        },
        {
          "output_type": "display_data",
          "data": {
            "text/plain": [
              "<Figure size 432x288 with 1 Axes>"
            ],
            "image/png": "[encoded data removed]"
          },
          "metadata": {
            "needs_background": "light"
          }
        },
        {
          "output_type": "stream",
          "name": "stdout",
          "text": [
            "Polynomial coefficients\n",
            "[12.589705115033366, 0.5141482337775917, -0.5356839431405277, 0.007536337759305062, -0.011483299912279744, 0.00045169706120758493, -0.00020758681743995416, 2.4848800597675313e-05, -2.9484662476981003e-06, 1.0365496404366997e-06, -1.3878268714473738e-08, 3.6276512531033884e-08, 1.3077782118260607e-09, 1.1308940371186276e-09, 8.229060043917523e-11, 3.2196504367284536e-11, 3.675868147833454e-12, 8.345334469985746e-13, 1.4830524044179316e-13, 1.8853315079685212e-14, 5.75776357786933e-15, 3.109383652256004e-16, 2.202614529577341e-16, -6.194996514101279e-19, 8.383650504798736e-18, -3.982330692852442e-19, 3.1872470659009414e-19, -2.628684046144267e-20, 1.2118172851297182e-20, -1.3278220506554736e-21, 4.608519847745847e-22, -6.00735304316212e-23, 1.7525267906237547e-23, -2.5612785357390374e-24, 6.661484917359368e-25, -1.0529569270921953e-25, 2.5299425036198405e-26, -4.225221525363846e-27, 9.597077106913905e-28, -1.6668762520083923e-28, 3.6352954262111774e-29, -6.494468182653936e-30, 1.374739522443095e-30, -2.506492760077353e-31, 5.189269947072958e-32, -9.601694660570399e-33, 1.9549404475095295e-33, -3.655850000462495e-34, 7.3492647154981e-35, -1.3848413399293839e-35, 2.7566361071999908e-36, -5.222293928630945e-37, 1.0315219079712155e-37, -1.9613373126385962e-38, 3.850096079999823e-39, -7.3379976850441214e-40, 1.4331053326663491e-40, -2.7351501794244337e-41, 5.3186617229422425e-42, -1.0156770540933142e-42, 1.967566219195413e-43, -3.757047887659295e-44, 7.253035802187847e-45, -1.3840588257685529e-45, 2.663200928469616e-46, -5.076112190812887e-47, 9.735832064771091e-48, -1.8525710173490294e-48, 3.541349124990848e-49, -6.723869320478128e-50, 1.2807583819102735e-50, -2.4250316346606446e-51, 4.601057043499978e-52, -8.681935584290604e-53, 1.639872033388428e-53, -3.0812006193662236e-54, 5.7893054674080324e-55, -1.0819994271883392e-55, 2.020063992645149e-56, -3.750041969341884e-57, 6.945660119788449e-58, -1.2781435706174512e-58, 2.3429792783572474e-59, -4.2611329592337395e-60, 7.702324480422598e-61, -1.3778050748274392e-61, 2.440643602848953e-62, -4.25833315159568e-63, 7.30738869328835e-64, -1.2228516458303924e-64, 1.981587082716312e-65, -3.0489473351989185e-66, 4.317098379819928e-67, -5.1310544473913854e-68, 3.430430799729641e-69, 6.564537923275663e-70, -3.933492981964544e-70, 1.3012907006859693e-70, -3.607784740159763e-71, 9.188303223375029e-72, -2.2232429270988532e-72, 5.2028793768861736e-73, -1.1884892483849359e-73, 2.6670510818877287e-74, -5.901571260114603e-75, 1.2915774246513604e-75, -2.800894033067464e-76, 6.0286514134989895e-77, -1.2892913894821554e-77, 2.7423873739860784e-78, -5.805517865973779e-79, 1.2239774717848056e-79, -2.5710972868301977e-80, 5.383590093142612e-81, -1.1240075373134824e-81, 2.3407215299281626e-82, -4.8630948273693826e-83, 1.008232916287183e-83, -2.0862635000544335e-84, 4.309384047098124e-85, -8.887041474744614e-86, 1.8300170935150124e-86, -3.7631815470311904e-87, 7.728665538362022e-88, -1.585405708788621e-88, 3.2486334655111e-89, -6.649912132866856e-90, 1.3599305861771595e-90, -2.778615956805039e-91, 5.67252696941276e-92, -1.1571298628939609e-92, 2.3586646683119297e-93, -4.804485065209228e-94, 9.780065777913987e-95, -1.9896026149080408e-95, 4.045159129540222e-96, -8.219829248717117e-97, 1.6694014867084457e-97, -3.388761960152284e-98, 6.875665269610923e-99, -1.3944141060125274e-99, 2.8267139051003366e-100, -5.727877778015324e-101, 1.160208060164232e-101, -2.349178274198542e-102, 4.754900818252877e-103, -9.620976772567099e-104, 1.9460574188752773e-104, -3.935110972010469e-105, 7.954795062986207e-106, -1.6075966843997346e-106, 3.247928790230323e-107, -6.56027492717299e-108, 1.324733067095459e-108, -2.674421605628736e-109, 5.397972963461889e-110, -1.0892681609228786e-110, 2.1975863753283102e-111, -4.432693427609395e-112, 8.939298583110525e-113, -1.8024217658064913e-113, 3.633538167278663e-114, -7.323628173109058e-115, 1.4758727545510083e-115, -2.9737214575384115e-116, 5.990774375975006e-117, -1.2067002111285121e-117, 2.430255333716625e-118, -4.893760916047881e-119, 9.85312662443544e-120, -1.9835717000872284e-120, 3.9926959189173955e-121, -8.03583379832262e-122, 1.6171259420054726e-122, -3.253918461042431e-123, 6.546679483115284e-124, -1.3170088197540606e-124, 2.6491772568463033e-125, -5.3283109383364844e-126, 1.0715827975160528e-126, -2.1548691442363994e-127, 4.3328772403894487e-128, -8.711510125703064e-129, 1.7513514456277683e-129, -3.5206036677638383e-130, 7.076623220407924e-131, -1.4223327288760515e-131, 2.858535432131523e-132, -5.74452620875738e-133, 1.1543409111088062e-133, -2.319445331580063e-134, 4.6602078251600105e-135, -9.362641588059588e-136, 1.8808940407718594e-136, -3.778364919647959e-137, 7.589582739292195e-138, -1.5244286206729155e-138, 3.0617675919924536e-139, -6.149134581982351e-140, 1.234903763379647e-140, -2.4798775536959334e-141]\n"
          ]
        }
      ]
    },
    {
      "cell_type": "markdown",
      "metadata": {
        "id": "1EsLoBMqMA-L"
      },
      "source": [
        "## Viewing the predictions in the testing set"
      ]
    },
    {
      "cell_type": "code",
      "metadata": {
        "id": "TPp6zYZ6MA-L",
        "colab": {
          "base_uri": "https://localhost:8080/",
          "height": 300
        },
        "outputId": "b7278360-8f69-4e31-9d5d-3441080c524e"
      },
      "source": [
        "import pandas as pd\n",
        "from IPython.display import display\n",
        "predictions={}\n",
        "predictions ['x']=X_test[:,0]\n",
        "predictions ['y']=y_test\n",
        "predictions['No reg'] = model_no_reg.predict(X_test)\n",
        "predictions['L1 reg'] = model_L1_reg.predict(X_test)\n",
        "predictions['L2 reg'] = model_L2_reg.predict(X_test)\n",
        "predictions=pd.DataFrame.from_dict(predictions)\n",
        "display(predictions)"
      ],
      "execution_count": 38,
      "outputs": [
        {
          "output_type": "display_data",
          "data": {
            "text/plain": [
              "          x          y        No reg     L1 reg     L2 reg\n",
              "0  0.756510  14.859288  1.334792e+01  12.992653  12.671665\n",
              "1 -4.101756  -7.821475 -2.260442e+09  -4.141817  -5.150786\n",
              "2 -0.520304  13.478608  3.574760e+01  12.677738  12.175248\n",
              "3 -1.966873  11.133218  2.249694e+01   9.142335   9.247559\n",
              "4  3.444219   6.685961 -6.459188e+03   5.662043   6.776598\n",
              "5 -2.181622   8.160123  7.293902e+01   8.320250   8.526615\n",
              "6 -0.278573  16.365057  1.137281e+01  12.938520  12.404674\n",
              "7 -3.909422  -7.163796 -1.174344e+09  -2.263060  -2.786056"
            ],
            "text/html": [
              "\n",
              "  <div id=\"df-ab534f82-9a4e-44d0-82bc-e5621f9477a7\">\n",
              "    <div class=\"colab-df-container\">\n",
              "      <div>\n",
              "<style scoped>\n",
              "    .dataframe tbody tr th:only-of-type {\n",
              "        vertical-align: middle;\n",
              "    }\n",
              "\n",
              "    .dataframe tbody tr th {\n",
              "        vertical-align: top;\n",
              "    }\n",
              "\n",
              "    .dataframe thead th {\n",
              "        text-align: right;\n",
              "    }\n",
              "</style>\n",
              "<table border=\"1\" class=\"dataframe\">\n",
              "  <thead>\n",
              "    <tr style=\"text-align: right;\">\n",
              "      <th></th>\n",
              "      <th>x</th>\n",
              "      <th>y</th>\n",
              "      <th>No reg</th>\n",
              "      <th>L1 reg</th>\n",
              "      <th>L2 reg</th>\n",
              "    </tr>\n",
              "  </thead>\n",
              "  <tbody>\n",
              "    <tr>\n",
              "      <th>0</th>\n",
              "      <td>0.756510</td>\n",
              "      <td>14.859288</td>\n",
              "      <td>1.334792e+01</td>\n",
              "      <td>12.992653</td>\n",
              "      <td>12.671665</td>\n",
              "    </tr>\n",
              "    <tr>\n",
              "      <th>1</th>\n",
              "      <td>-4.101756</td>\n",
              "      <td>-7.821475</td>\n",
              "      <td>-2.260442e+09</td>\n",
              "      <td>-4.141817</td>\n",
              "      <td>-5.150786</td>\n",
              "    </tr>\n",
              "    <tr>\n",
              "      <th>2</th>\n",
              "      <td>-0.520304</td>\n",
              "      <td>13.478608</td>\n",
              "      <td>3.574760e+01</td>\n",
              "      <td>12.677738</td>\n",
              "      <td>12.175248</td>\n",
              "    </tr>\n",
              "    <tr>\n",
              "      <th>3</th>\n",
              "      <td>-1.966873</td>\n",
              "      <td>11.133218</td>\n",
              "      <td>2.249694e+01</td>\n",
              "      <td>9.142335</td>\n",
              "      <td>9.247559</td>\n",
              "    </tr>\n",
              "    <tr>\n",
              "      <th>4</th>\n",
              "      <td>3.444219</td>\n",
              "      <td>6.685961</td>\n",
              "      <td>-6.459188e+03</td>\n",
              "      <td>5.662043</td>\n",
              "      <td>6.776598</td>\n",
              "    </tr>\n",
              "    <tr>\n",
              "      <th>5</th>\n",
              "      <td>-2.181622</td>\n",
              "      <td>8.160123</td>\n",
              "      <td>7.293902e+01</td>\n",
              "      <td>8.320250</td>\n",
              "      <td>8.526615</td>\n",
              "    </tr>\n",
              "    <tr>\n",
              "      <th>6</th>\n",
              "      <td>-0.278573</td>\n",
              "      <td>16.365057</td>\n",
              "      <td>1.137281e+01</td>\n",
              "      <td>12.938520</td>\n",
              "      <td>12.404674</td>\n",
              "    </tr>\n",
              "    <tr>\n",
              "      <th>7</th>\n",
              "      <td>-3.909422</td>\n",
              "      <td>-7.163796</td>\n",
              "      <td>-1.174344e+09</td>\n",
              "      <td>-2.263060</td>\n",
              "      <td>-2.786056</td>\n",
              "    </tr>\n",
              "  </tbody>\n",
              "</table>\n",
              "</div>\n",
              "      <button class=\"colab-df-convert\" onclick=\"convertToInteractive('df-ab534f82-9a4e-44d0-82bc-e5621f9477a7')\"\n",
              "              title=\"Convert this dataframe to an interactive table.\"\n",
              "              style=\"display:none;\">\n",
              "        \n",
              "  <svg xmlns=\"http://www.w3.org/2000/svg\" height=\"24px\"viewBox=\"0 0 24 24\"\n",
              "       width=\"24px\">\n",
              "    <path d=\"M0 0h24v24H0V0z\" fill=\"none\"/>\n",
              "    <path d=\"M18.56 5.44l.94 2.06.94-2.06 2.06-.94-2.06-.94-.94-2.06-.94 2.06-2.06.94zm-11 1L8.5 8.5l.94-2.06 2.06-.94-2.06-.94L8.5 2.5l-.94 2.06-2.06.94zm10 10l.94 2.06.94-2.06 2.06-.94-2.06-.94-.94-2.06-.94 2.06-2.06.94z\"/><path d=\"M17.41 7.96l-1.37-1.37c-.4-.4-.92-.59-1.43-.59-.52 0-1.04.2-1.43.59L10.3 9.45l-7.72 7.72c-.78.78-.78 2.05 0 2.83L4 21.41c.39.39.9.59 1.41.59.51 0 1.02-.2 1.41-.59l7.78-7.78 2.81-2.81c.8-.78.8-2.07 0-2.86zM5.41 20L4 18.59l7.72-7.72 1.47 1.35L5.41 20z\"/>\n",
              "  </svg>\n",
              "      </button>\n",
              "      \n",
              "  <style>\n",
              "    .colab-df-container {\n",
              "      display:flex;\n",
              "      flex-wrap:wrap;\n",
              "      gap: 12px;\n",
              "    }\n",
              "\n",
              "    .colab-df-convert {\n",
              "      background-color: #E8F0FE;\n",
              "      border: none;\n",
              "      border-radius: 50%;\n",
              "      cursor: pointer;\n",
              "      display: none;\n",
              "      fill: #1967D2;\n",
              "      height: 32px;\n",
              "      padding: 0 0 0 0;\n",
              "      width: 32px;\n",
              "    }\n",
              "\n",
              "    .colab-df-convert:hover {\n",
              "      background-color: #E2EBFA;\n",
              "      box-shadow: 0px 1px 2px rgba(60, 64, 67, 0.3), 0px 1px 3px 1px rgba(60, 64, 67, 0.15);\n",
              "      fill: #174EA6;\n",
              "    }\n",
              "\n",
              "    [theme=dark] .colab-df-convert {\n",
              "      background-color: #3B4455;\n",
              "      fill: #D2E3FC;\n",
              "    }\n",
              "\n",
              "    [theme=dark] .colab-df-convert:hover {\n",
              "      background-color: #434B5C;\n",
              "      box-shadow: 0px 1px 3px 1px rgba(0, 0, 0, 0.15);\n",
              "      filter: drop-shadow(0px 1px 2px rgba(0, 0, 0, 0.3));\n",
              "      fill: #FFFFFF;\n",
              "    }\n",
              "  </style>\n",
              "\n",
              "      <script>\n",
              "        const buttonEl =\n",
              "          document.querySelector('#df-ab534f82-9a4e-44d0-82bc-e5621f9477a7 button.colab-df-convert');\n",
              "        buttonEl.style.display =\n",
              "          google.colab.kernel.accessAllowed ? 'block' : 'none';\n",
              "\n",
              "        async function convertToInteractive(key) {\n",
              "          const element = document.querySelector('#df-ab534f82-9a4e-44d0-82bc-e5621f9477a7');\n",
              "          const dataTable =\n",
              "            await google.colab.kernel.invokeFunction('convertToInteractive',\n",
              "                                                     [key], {});\n",
              "          if (!dataTable) return;\n",
              "\n",
              "          const docLinkHtml = 'Like what you see? Visit the ' +\n",
              "            '<a target=\"_blank\" href=https://colab.research.google.com/notebooks/data_table.ipynb>data table notebook</a>'\n",
              "            + ' to learn more about interactive tables.';\n",
              "          element.innerHTML = '';\n",
              "          dataTable['output_type'] = 'display_data';\n",
              "          await google.colab.output.renderOutput(dataTable, element);\n",
              "          const docLink = document.createElement('div');\n",
              "          docLink.innerHTML = docLinkHtml;\n",
              "          element.appendChild(docLink);\n",
              "        }\n",
              "      </script>\n",
              "    </div>\n",
              "  </div>\n",
              "  "
            ]
          },
          "metadata": {}
        }
      ]
    },
    {
      "cell_type": "code",
      "source": [
        ""
      ],
      "metadata": {
        "id": "AMMAtOqbyFou"
      },
      "execution_count": null,
      "outputs": []
    }
  ]
}